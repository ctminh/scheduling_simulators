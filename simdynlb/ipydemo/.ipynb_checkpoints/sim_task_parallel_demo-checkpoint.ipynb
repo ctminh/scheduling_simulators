{
 "cells": [
  {
   "cell_type": "markdown",
   "metadata": {},
   "source": [
    "## Dynamic Load Balancing Demo"
   ]
  },
  {
   "cell_type": "code",
   "execution_count": 2,
   "metadata": {},
   "outputs": [],
   "source": [
    "from ipywidgets import interact, interactive, fixed, interact_manual\n",
    "from IPython.display import display\n",
    "\n",
    "import matplotlib.pyplot as plt\n",
    "import ipywidgets as widgets\n",
    "import numpy as np"
   ]
  },
  {
   "cell_type": "markdown",
   "metadata": {},
   "source": [
    "### 1. A simple task-parallel execution demo"
   ]
  },
  {
   "cell_type": "code",
   "execution_count": 21,
   "metadata": {},
   "outputs": [
    {
     "data": {
      "application/vnd.jupyter.widget-view+json": {
       "model_id": "5954cd09a74547929b75b433bc753115",
       "version_major": 2,
       "version_minor": 0
      },
      "text/plain": [
       "interactive(children=(IntSlider(value=20, description='p0', min=10, step=5), IntSlider(value=20, description='…"
      ]
     },
     "metadata": {},
     "output_type": "display_data"
    }
   ],
   "source": [
    "# util-function for breaking the segment into pieces\n",
    "def do_segment(p):\n",
    "    gnt_arr = []\n",
    "    for i in range(p):\n",
    "        exe_interval = (i, 1)\n",
    "        gnt_arr.append(exe_interval)\n",
    "    return gnt_arr\n",
    "\n",
    "# a demo for only 4 processes\n",
    "def task_par_execution_demo(p0, p1, p2, p3, max_ntasks):\n",
    "    # declare the chart with subplot\n",
    "    fig, gnt = plt.subplots()\n",
    "    \n",
    "    # set labels for x- and y-axis\n",
    "    gnt.set_xlabel('Time Progress')\n",
    "    gnt.set_ylabel('Processes')\n",
    "    \n",
    "    # set x- or y-limits\n",
    "    gnt.set_xlim(0, max_ntasks)\n",
    "    \n",
    "    # set ticks on y-axis for showing the process-names\n",
    "    gnt.set_yticks([15, 25, 35, 45])\n",
    "    gnt.set_yticklabels(['P0', 'P1', 'P2', 'P3'])\n",
    "    \n",
    "    # configure the graph attributes\n",
    "    # gnt.grid(True)\n",
    "    \n",
    "    # segment the execution time units\n",
    "    p0_progress = do_segment(p0)\n",
    "    p1_progress = do_segment(p1)\n",
    "    p2_progress = do_segment(p2)\n",
    "    p3_progress = do_segment(p3)\n",
    "    \n",
    "    # declare bars in schedule\n",
    "    gnt.broken_barh(p0_progress, (10, 8), facecolors=('tab:green'), edgecolor='black')\n",
    "    gnt.broken_barh(p1_progress, (20, 8), facecolors=('tab:green'), edgecolor='black')\n",
    "    gnt.broken_barh(p2_progress, (30, 8), facecolors=('tab:green'), edgecolor='black')\n",
    "    gnt.broken_barh(p3_progress, (40, 8), facecolors=('tab:green'), edgecolor='black')\n",
    "\n",
    "    # display the chart\n",
    "    plt.show()\n",
    "    \n",
    "# check the demo\n",
    "basic_demo = interactive(task_par_execution_demo,\n",
    "                        p0=widgets.IntSlider(min=10, max=100, value=20, step=5),\n",
    "                        p1=widgets.IntSlider(min=10, max=100, value=20, step=5),\n",
    "                        p2=widgets.IntSlider(min=10, max=100, value=10, step=5),\n",
    "                        p3=widgets.IntSlider(min=10, max=100, value=10, step=5),\n",
    "                        max_ntasks=widgets.IntSlider(min=100, max=1000, value=100, step=100))\n",
    "display(basic_demo)\n"
   ]
  },
  {
   "cell_type": "code",
   "execution_count": 11,
   "metadata": {},
   "outputs": [
    {
     "data": {
      "image/png": "[encoded data removed]",
      "text/plain": [
       "<Figure size 432x288 with 1 Axes>"
      ]
     },
     "metadata": {
      "needs_background": "light"
     },
     "output_type": "display_data"
    }
   ],
   "source": [
    "# test gannt chart with matplotlib\n",
    "fig, gnt = plt.subplots()\n",
    "\n",
    "# set x- and y-axis limits\n",
    "gnt.set_xlim(0, 160)\n",
    "gnt.set_ylim(0, 50)\n",
    "\n",
    "# set labels for x- and y-axis\n",
    "gnt.set_xlabel('Time Progress')\n",
    "gnt.set_ylabel('Processes')\n",
    "\n",
    "# set ticks on y-axis\n",
    "gnt.set_yticks([15, 25, 35])\n",
    "gnt.set_yticklabels(['1', '2', '3'])\n",
    "\n",
    "# configure graph attributes\n",
    "gnt.grid(True)\n",
    "\n",
    "# declare bars in schedule\n",
    "gnt.broken_barh([(40, 50)], (30, 8), facecolors=('tab:orange'))\n",
    "gnt.broken_barh([(110, 10), (150, 10)], (10, 8), facecolors=('tab:blue'))\n",
    "gnt.broken_barh([(10, 50), (100, 20), (130, 10)], (20, 8), facecolors=('tab:red'))\n",
    "\n",
    "plt.show()"
   ]
  },
  {
   "cell_type": "code",
   "execution_count": null,
   "metadata": {},
   "outputs": [],
   "source": []
  }
 ],
 "metadata": {
  "kernelspec": {
   "display_name": "Python 3",
   "language": "python",
   "name": "python3"
  },
  "language_info": {
   "codemirror_mode": {
    "name": "ipython",
    "version": 3
   },
   "file_extension": ".py",
   "mimetype": "text/x-python",
   "name": "python",
   "nbconvert_exporter": "python",
   "pygments_lexer": "ipython3",
   "version": "3.8.5"
  }
 },
 "nbformat": 4,
 "nbformat_minor": 4
}
